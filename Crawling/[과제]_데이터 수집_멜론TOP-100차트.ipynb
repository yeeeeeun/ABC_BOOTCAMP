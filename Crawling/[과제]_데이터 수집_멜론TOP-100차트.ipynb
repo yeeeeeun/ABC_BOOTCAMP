{
 "cells": [
  {
   "cell_type": "code",
   "execution_count": 1,
   "id": "fce15039",
   "metadata": {},
   "outputs": [],
   "source": [
    "import requests\n",
    "from bs4 import BeautifulSoup  \n",
    "import pandas as pd"
   ]
  },
  {
   "cell_type": "code",
   "execution_count": null,
   "id": "c2a8aa97",
   "metadata": {},
   "outputs": [],
   "source": [
    "# 상태코드 406 -> 서버가 응답을 생성할 수 없음 -> header로 접근"
   ]
  },
  {
   "cell_type": "code",
   "execution_count": null,
   "id": "5797992d",
   "metadata": {},
   "outputs": [],
   "source": [
    "# referer로도 요청할 수 있음"
   ]
  },
  {
   "cell_type": "code",
   "execution_count": 3,
   "id": "7e22324c",
   "metadata": {},
   "outputs": [
    {
     "data": {
      "text/plain": [
       "<Response [200]>"
      ]
     },
     "execution_count": 3,
     "metadata": {},
     "output_type": "execute_result"
    }
   ],
   "source": [
    "headers = {\n",
    "    \"User-Agent\": \"Mozilla/5.0 (Macintosh; Intel Mac OS X 10_15_7) AppleWebKit/537.36 (KHTML, like Gecko) Chrome/114.0.0.0 Safari/537.36\",\n",
    "}\n",
    "\n",
    "url = \"https://www.melon.com/chart/index.htm\"\n",
    "res = requests.get(url, headers=headers)\n",
    "res"
   ]
  },
  {
   "cell_type": "code",
   "execution_count": 5,
   "id": "bd39860f",
   "metadata": {},
   "outputs": [
    {
     "name": "stdout",
     "output_type": "stream",
     "text": [
      "'<!DOCTYPE html>\\r\\n<html lang=\"ko\">\\r\\n\\r\\n\\r\\n\\r\\n\\r\\n\\r\\n\\r\\n\\r\\n\\r\\n\\r\\n\\r\\n\\r\\n\\r\\n\\r\\n<head>\\r\\n\\t\\t\\r\\n\\t\\r\\n\\t\\r\\n\\t\\r\\n\\t\\r\\n\\t\\r\\n\\t\\r\\n\\t\\r\\n\\t\\r\\n\\r\\n\\t'\n"
     ]
    }
   ],
   "source": [
    "html = res.text\n",
    "print(repr(html[:100]))\n",
    "soup = BeautifulSoup(html, \"html.parser\")"
   ]
  },
  {
   "cell_type": "code",
   "execution_count": 11,
   "id": "e95135fc",
   "metadata": {},
   "outputs": [
    {
     "data": {
      "text/plain": [
       "100"
      ]
     },
     "execution_count": 11,
     "metadata": {},
     "output_type": "execute_result"
    }
   ],
   "source": [
    "# soup.select(\".service_list_song tbody tr\")\n",
    "\n",
    "#wrap_tag_list = soup.select(\".lst50, .lst100\")\n",
    "\n",
    "wrap_tag_list = soup.select(\".lst50, .lst100\")\n",
    "len(wrap_tag_list)"
   ]
  },
  {
   "cell_type": "code",
   "execution_count": 24,
   "id": "ee634a0f",
   "metadata": {},
   "outputs": [
    {
     "data": {
      "text/plain": [
       "100"
      ]
     },
     "execution_count": 24,
     "metadata": {},
     "output_type": "execute_result"
    }
   ],
   "source": [
    "# 내 코드\n",
    "\n",
    "song_list = []\n",
    "\n",
    "for wrap_tag in wrap_tag_list :\n",
    "\n",
    "    song_no = wrap_tag[\"data-song-no\"]\n",
    "\n",
    "    #wrap_tag.select_one(\"[href^=playSong]\") # href.startswith(\"playSong\")의미\n",
    "\n",
    "    #wrap_tag.select_one(\"[href$=playSong]\") # href.endswith(\"playSong\")의미\n",
    "\n",
    "    song_title = wrap_tag.select_one(\"[href*=playSong]\").text # \"playSong\" in href 의 의미\n",
    "\n",
    "    artist_name = wrap_tag.select_one(\"[href*=goArtistDetail]\").text\n",
    "\n",
    "    album_name = wrap_tag.select_one(\"[href*=goAlbumDetail]\")[\"title\"]\n",
    "\n",
    "    cover_image_url = wrap_tag.select_one(\"[onerror*=defaultAlbumImg]\")[\"src\"]\n",
    "    \n",
    "    song_list.append(\n",
    "    {\n",
    "        '곡일련번호' : song_no,\n",
    "        '앨범명' : album_name,\n",
    "        \"곡명\" : song_title,\n",
    "        \"가수명\" : artist_name,\n",
    "        \"커버이미지_주소\" : cover_image_url,\n",
    "    })\n",
    "\n",
    "len(song_list)"
   ]
  },
  {
   "cell_type": "code",
   "execution_count": null,
   "id": "90fab7c6",
   "metadata": {},
   "outputs": [],
   "source": [
    "# 교수님 코드\n",
    "song_list = []\n",
    "\n",
    "for wrap_tag in wrap_tag_list:\n",
    "    song_no = wrap_tag[\"data-song-no\"]\n",
    "\n",
    "    # wrap_tag.select_one(\"[href^=playSong]\")  # href.startswith(\"playSong\")의 의미\n",
    "    # wrap_tag.select_one(\"[href$=playSong]\")  # href.endswith(\"playSong\")의 의미\n",
    "    song_title = wrap_tag.select_one(\"[href*=playSong]\").text  # \"playSong\" in href 의 의미\n",
    "    artist_name = wrap_tag.select_one(\"[href*=goArtistDetail]\").text\n",
    "    album_name = wrap_tag.select_one(\"[href*=goAlbumDetail]\")[\"title\"]\n",
    "    \n",
    "    cover_image_url = wrap_tag.select_one(\"[onerror*=defaultAlbumImg]\")[\"src\"]\n",
    "\n",
    "    song_list.append({\n",
    "        \"곡일련번호\": song_no,\n",
    "        \"앨범명\": album_name,\n",
    "        \"곡명\": song_title,\n",
    "        \"가수명\": artist_name,\n",
    "        \"커버이미지_주소\": cover_image_url,\n",
    "    })\n",
    "    \n",
    "    # print(song_no, album_name, song_title, artist_name, cover_image_url)\n",
    "\n",
    "len(song_list)"
   ]
  },
  {
   "cell_type": "code",
   "execution_count": 26,
   "id": "e9b6e27b",
   "metadata": {},
   "outputs": [
    {
     "name": "stdout",
     "output_type": "stream",
     "text": [
      "(100, 5)\n"
     ]
    },
    {
     "data": {
      "text/html": [
       "<div>\n",
       "<style scoped>\n",
       "    .dataframe tbody tr th:only-of-type {\n",
       "        vertical-align: middle;\n",
       "    }\n",
       "\n",
       "    .dataframe tbody tr th {\n",
       "        vertical-align: top;\n",
       "    }\n",
       "\n",
       "    .dataframe thead th {\n",
       "        text-align: right;\n",
       "    }\n",
       "</style>\n",
       "<table border=\"1\" class=\"dataframe\">\n",
       "  <thead>\n",
       "    <tr style=\"text-align: right;\">\n",
       "      <th></th>\n",
       "      <th>앨범명</th>\n",
       "      <th>곡명</th>\n",
       "      <th>가수명</th>\n",
       "      <th>커버이미지_주소</th>\n",
       "      <th>순위</th>\n",
       "    </tr>\n",
       "    <tr>\n",
       "      <th>곡일련번호</th>\n",
       "      <th></th>\n",
       "      <th></th>\n",
       "      <th></th>\n",
       "      <th></th>\n",
       "      <th></th>\n",
       "    </tr>\n",
       "  </thead>\n",
       "  <tbody>\n",
       "    <tr>\n",
       "      <th>36599950</th>\n",
       "      <td>NewJeans 2nd EP 'Get Up'</td>\n",
       "      <td>Super Shy</td>\n",
       "      <td>NewJeans</td>\n",
       "      <td>https://cdnimg.melon.co.kr/cm2/album/images/11...</td>\n",
       "      <td>1</td>\n",
       "    </tr>\n",
       "    <tr>\n",
       "      <th>36617841</th>\n",
       "      <td>Seven (feat. Latto) - Clean Ver.</td>\n",
       "      <td>Seven (feat. Latto) - Clean Ver.</td>\n",
       "      <td>정국</td>\n",
       "      <td>https://cdnimg.melon.co.kr/cm2/album/images/11...</td>\n",
       "      <td>2</td>\n",
       "    </tr>\n",
       "    <tr>\n",
       "      <th>36635522</th>\n",
       "      <td>NewJeans 2nd EP 'Get Up'</td>\n",
       "      <td>ETA</td>\n",
       "      <td>NewJeans</td>\n",
       "      <td>https://cdnimg.melon.co.kr/cm2/album/images/11...</td>\n",
       "      <td>3</td>\n",
       "    </tr>\n",
       "    <tr>\n",
       "      <th>36430773</th>\n",
       "      <td>I feel</td>\n",
       "      <td>퀸카 (Queencard)</td>\n",
       "      <td>(여자)아이들</td>\n",
       "      <td>https://cdnimg.melon.co.kr/cm2/album/images/11...</td>\n",
       "      <td>4</td>\n",
       "    </tr>\n",
       "    <tr>\n",
       "      <th>36382580</th>\n",
       "      <td>1집 Alone</td>\n",
       "      <td>헤어지자 말해요</td>\n",
       "      <td>박재정</td>\n",
       "      <td>https://cdnimg.melon.co.kr/cm2/album/images/11...</td>\n",
       "      <td>5</td>\n",
       "    </tr>\n",
       "  </tbody>\n",
       "</table>\n",
       "</div>"
      ],
      "text/plain": [
       "                                       앨범명                                곡명  \\\n",
       "곡일련번호                                                                          \n",
       "36599950          NewJeans 2nd EP 'Get Up'                         Super Shy   \n",
       "36617841  Seven (feat. Latto) - Clean Ver.  Seven (feat. Latto) - Clean Ver.   \n",
       "36635522          NewJeans 2nd EP 'Get Up'                               ETA   \n",
       "36430773                            I feel                    퀸카 (Queencard)   \n",
       "36382580                          1집 Alone                          헤어지자 말해요   \n",
       "\n",
       "               가수명                                           커버이미지_주소  순위  \n",
       "곡일련번호                                                                      \n",
       "36599950  NewJeans  https://cdnimg.melon.co.kr/cm2/album/images/11...   1  \n",
       "36617841        정국  https://cdnimg.melon.co.kr/cm2/album/images/11...   2  \n",
       "36635522  NewJeans  https://cdnimg.melon.co.kr/cm2/album/images/11...   3  \n",
       "36430773   (여자)아이들  https://cdnimg.melon.co.kr/cm2/album/images/11...   4  \n",
       "36382580       박재정  https://cdnimg.melon.co.kr/cm2/album/images/11...   5  "
      ]
     },
     "execution_count": 26,
     "metadata": {},
     "output_type": "execute_result"
    }
   ],
   "source": [
    "df = pd.DataFrame(song_list).set_index(\"곡일련번호\")\n",
    "\n",
    "df[\"순위\"] = range(1, df.shape[0]+1)\n",
    "\n",
    "print(df.shape)\n",
    "\n",
    "df.head()"
   ]
  },
  {
   "cell_type": "code",
   "execution_count": 28,
   "id": "2b86dd96",
   "metadata": {},
   "outputs": [
    {
     "data": {
      "text/plain": [
       "<Response [200]>"
      ]
     },
     "execution_count": 28,
     "metadata": {},
     "output_type": "execute_result"
    }
   ],
   "source": [
    "url = \"https://www.melon.com/commonlike/getSongLike.json\"\n",
    "\n",
    "params = {\n",
    "    \"contsIds\" : \"36599950,36617841\",\n",
    "}\n",
    "\n",
    "res = requests.get(url, params = params, headers=headers)\n",
    "res"
   ]
  },
  {
   "cell_type": "code",
   "execution_count": 33,
   "id": "2dea0c3e",
   "metadata": {},
   "outputs": [
    {
     "name": "stdout",
     "output_type": "stream",
     "text": [
      "36599950 102867\n",
      "36617841 107071\n"
     ]
    },
    {
     "data": {
      "text/plain": [
       "{36599950: 102867, 36617841: 107071}"
      ]
     },
     "execution_count": 33,
     "metadata": {},
     "output_type": "execute_result"
    }
   ],
   "source": [
    "likes_dict = {}\n",
    "\n",
    "for song in res.json()['contsLike'] :\n",
    "    print(song[\"CONTSID\"], song[\"SUMMCNT\"])\n",
    "    likes_dict[song[\"CONTSID\"]] = song[\"SUMMCNT\"]\n",
    "    \n",
    "likes_dict"
   ]
  },
  {
   "cell_type": "code",
   "execution_count": 35,
   "id": "7169104e",
   "metadata": {},
   "outputs": [
    {
     "data": {
      "text/plain": [
       "{36599950: 102867, 36617841: 107071}"
      ]
     },
     "execution_count": 35,
     "metadata": {},
     "output_type": "execute_result"
    }
   ],
   "source": [
    "# dict comprehension\n",
    "{ \n",
    "    song[\"CONTSID\"] : song[\"SUMMCNT\"]\n",
    "    for song in res.json()['contsLike'] \n",
    "}"
   ]
  },
  {
   "cell_type": "code",
   "execution_count": 36,
   "id": "f6b1fbd4",
   "metadata": {},
   "outputs": [
    {
     "data": {
      "text/plain": [
       "[4, 16]"
      ]
     },
     "execution_count": 36,
     "metadata": {},
     "output_type": "execute_result"
    }
   ],
   "source": [
    "numbers = [1, 2, 3, 4, 5]\n",
    "\n",
    "[number ** 2 for number in numbers] # list comprehension\n",
    "\n",
    "[number ** 2 \n",
    " for number in numbers \n",
    " if number % 2 == 0] # list comprehension"
   ]
  },
  {
   "cell_type": "code",
   "execution_count": 38,
   "id": "4db7c4cd",
   "metadata": {},
   "outputs": [
    {
     "data": {
      "text/plain": [
       "{0, 1, 2}"
      ]
     },
     "execution_count": 38,
     "metadata": {},
     "output_type": "execute_result"
    }
   ],
   "source": [
    "{number % 3 for number in numbers} # set comprehension -> 집합은 값만 나열"
   ]
  },
  {
   "cell_type": "code",
   "execution_count": 39,
   "id": "e6d72d53",
   "metadata": {},
   "outputs": [
    {
     "data": {
      "text/plain": [
       "{1: 1, 2: 2, 3: 0, 4: 1, 5: 2}"
      ]
     },
     "execution_count": 39,
     "metadata": {},
     "output_type": "execute_result"
    }
   ],
   "source": [
    "{number : number % 3 for number in numbers} # dict comprehension -> value와 key를 함께"
   ]
  },
  {
   "cell_type": "code",
   "execution_count": 40,
   "id": "23c84eff",
   "metadata": {},
   "outputs": [
    {
     "data": {
      "text/plain": [
       "<generator object <genexpr> at 0x000001977F21A200>"
      ]
     },
     "execution_count": 40,
     "metadata": {},
     "output_type": "execute_result"
    }
   ],
   "source": [
    "(number ** 2 for number in numbers) # tuple comprehension은 없다 !!"
   ]
  },
  {
   "cell_type": "code",
   "execution_count": null,
   "id": "94d4ca99",
   "metadata": {},
   "outputs": [],
   "source": [
    "# 좋아요 요청"
   ]
  },
  {
   "cell_type": "code",
   "execution_count": 45,
   "id": "8cd36595",
   "metadata": {},
   "outputs": [],
   "source": [
    "conts_ids = \",\".join(df.index)"
   ]
  },
  {
   "cell_type": "code",
   "execution_count": 46,
   "id": "f31b8500",
   "metadata": {},
   "outputs": [
    {
     "data": {
      "text/plain": [
       "<Response [200]>"
      ]
     },
     "execution_count": 46,
     "metadata": {},
     "output_type": "execute_result"
    }
   ],
   "source": [
    "url = \"https://www.melon.com/commonlike/getSongLike.json\"\n",
    "\n",
    "params = {\n",
    "    \"contsIds\" : conts_ids,\n",
    "}\n",
    "\n",
    "res = requests.get(url, params = params, headers=headers)\n",
    "res"
   ]
  },
  {
   "cell_type": "code",
   "execution_count": 50,
   "id": "6db0d4e7",
   "metadata": {},
   "outputs": [
    {
     "data": {
      "text/plain": [
       "{'contsLike': [{'CONTSID': 36599950, 'LIKEYN': 'N', 'SUMMCNT': 102895},\n",
       "  {'CONTSID': 36617841, 'LIKEYN': 'N', 'SUMMCNT': 107102},\n",
       "  {'CONTSID': 36635522, 'LIKEYN': 'N', 'SUMMCNT': 43352},\n",
       "  {'CONTSID': 36430773, 'LIKEYN': 'N', 'SUMMCNT': 122594},\n",
       "  {'CONTSID': 36382580, 'LIKEYN': 'N', 'SUMMCNT': 88980},\n",
       "  {'CONTSID': 36356993, 'LIKEYN': 'N', 'SUMMCNT': 186681},\n",
       "  {'CONTSID': 36411344, 'LIKEYN': 'N', 'SUMMCNT': 93750},\n",
       "  {'CONTSID': 36416114, 'LIKEYN': 'N', 'SUMMCNT': 113634},\n",
       "  {'CONTSID': 36490426, 'LIKEYN': 'N', 'SUMMCNT': 96888},\n",
       "  {'CONTSID': 36599949, 'LIKEYN': 'N', 'SUMMCNT': 50731},\n",
       "  {'CONTSID': 34061322, 'LIKEYN': 'N', 'SUMMCNT': 200662},\n",
       "  {'CONTSID': 36411342, 'LIKEYN': 'N', 'SUMMCNT': 111230},\n",
       "  {'CONTSID': 36502910, 'LIKEYN': 'N', 'SUMMCNT': 45562},\n",
       "  {'CONTSID': 36318125, 'LIKEYN': 'N', 'SUMMCNT': 144968},\n",
       "  {'CONTSID': 35454426, 'LIKEYN': 'N', 'SUMMCNT': 274155},\n",
       "  {'CONTSID': 34908740, 'LIKEYN': 'N', 'SUMMCNT': 96574},\n",
       "  {'CONTSID': 35008524, 'LIKEYN': 'N', 'SUMMCNT': 78567},\n",
       "  {'CONTSID': 36632907, 'LIKEYN': 'N', 'SUMMCNT': 24863},\n",
       "  {'CONTSID': 35945927, 'LIKEYN': 'N', 'SUMMCNT': 265444},\n",
       "  {'CONTSID': 35008525, 'LIKEYN': 'N', 'SUMMCNT': 66934},\n",
       "  {'CONTSID': 35931532, 'LIKEYN': 'N', 'SUMMCNT': 163573},\n",
       "  {'CONTSID': 32508053, 'LIKEYN': 'N', 'SUMMCNT': 169965},\n",
       "  {'CONTSID': 35834583, 'LIKEYN': 'N', 'SUMMCNT': 54927},\n",
       "  {'CONTSID': 36546894, 'LIKEYN': 'N', 'SUMMCNT': 52766},\n",
       "  {'CONTSID': 35834584, 'LIKEYN': 'N', 'SUMMCNT': 49760},\n",
       "  {'CONTSID': 35008527, 'LIKEYN': 'N', 'SUMMCNT': 54810},\n",
       "  {'CONTSID': 35008534, 'LIKEYN': 'N', 'SUMMCNT': 50830},\n",
       "  {'CONTSID': 36391236, 'LIKEYN': 'N', 'SUMMCNT': 143018},\n",
       "  {'CONTSID': 35008528, 'LIKEYN': 'N', 'SUMMCNT': 52046},\n",
       "  {'CONTSID': 36581408, 'LIKEYN': 'N', 'SUMMCNT': 73834},\n",
       "  {'CONTSID': 35008526, 'LIKEYN': 'N', 'SUMMCNT': 49855},\n",
       "  {'CONTSID': 35008531, 'LIKEYN': 'N', 'SUMMCNT': 51025},\n",
       "  {'CONTSID': 35008532, 'LIKEYN': 'N', 'SUMMCNT': 48971},\n",
       "  {'CONTSID': 36546895, 'LIKEYN': 'N', 'SUMMCNT': 66621},\n",
       "  {'CONTSID': 35985167, 'LIKEYN': 'N', 'SUMMCNT': 189312},\n",
       "  {'CONTSID': 32872978, 'LIKEYN': 'N', 'SUMMCNT': 456501},\n",
       "  {'CONTSID': 36331121, 'LIKEYN': 'N', 'SUMMCNT': 116954},\n",
       "  {'CONTSID': 35454425, 'LIKEYN': 'N', 'SUMMCNT': 230204},\n",
       "  {'CONTSID': 35008530, 'LIKEYN': 'N', 'SUMMCNT': 48393},\n",
       "  {'CONTSID': 33507137, 'LIKEYN': 'N', 'SUMMCNT': 291221},\n",
       "  {'CONTSID': 35546497, 'LIKEYN': 'N', 'SUMMCNT': 233504},\n",
       "  {'CONTSID': 34819473, 'LIKEYN': 'N', 'SUMMCNT': 308892},\n",
       "  {'CONTSID': 36516320, 'LIKEYN': 'N', 'SUMMCNT': 64110},\n",
       "  {'CONTSID': 35640751, 'LIKEYN': 'N', 'SUMMCNT': 178725},\n",
       "  {'CONTSID': 36313117, 'LIKEYN': 'N', 'SUMMCNT': 65954},\n",
       "  {'CONTSID': 36206259, 'LIKEYN': 'N', 'SUMMCNT': 112291},\n",
       "  {'CONTSID': 30244931, 'LIKEYN': 'N', 'SUMMCNT': 548718},\n",
       "  {'CONTSID': 36635524, 'LIKEYN': 'N', 'SUMMCNT': 22713},\n",
       "  {'CONTSID': 36351997, 'LIKEYN': 'N', 'SUMMCNT': 73473},\n",
       "  {'CONTSID': 35849863, 'LIKEYN': 'N', 'SUMMCNT': 125719},\n",
       "  {'CONTSID': 34847378, 'LIKEYN': 'N', 'SUMMCNT': 240141},\n",
       "  {'CONTSID': 8037843, 'LIKEYN': 'N', 'SUMMCNT': 186052},\n",
       "  {'CONTSID': 36110996, 'LIKEYN': 'N', 'SUMMCNT': 166782},\n",
       "  {'CONTSID': 36546900, 'LIKEYN': 'N', 'SUMMCNT': 33157},\n",
       "  {'CONTSID': 33666269, 'LIKEYN': 'N', 'SUMMCNT': 227009},\n",
       "  {'CONTSID': 36180700, 'LIKEYN': 'N', 'SUMMCNT': 56923},\n",
       "  {'CONTSID': 36546908, 'LIKEYN': 'N', 'SUMMCNT': 34690},\n",
       "  {'CONTSID': 36105548, 'LIKEYN': 'N', 'SUMMCNT': 99061},\n",
       "  {'CONTSID': 36404853, 'LIKEYN': 'N', 'SUMMCNT': 35579},\n",
       "  {'CONTSID': 36601157, 'LIKEYN': 'N', 'SUMMCNT': 46307},\n",
       "  {'CONTSID': 36441862, 'LIKEYN': 'N', 'SUMMCNT': 42103},\n",
       "  {'CONTSID': 36334401, 'LIKEYN': 'N', 'SUMMCNT': 33120},\n",
       "  {'CONTSID': 36546897, 'LIKEYN': 'N', 'SUMMCNT': 31726},\n",
       "  {'CONTSID': 35729104, 'LIKEYN': 'N', 'SUMMCNT': 166319},\n",
       "  {'CONTSID': 36430774, 'LIKEYN': 'N', 'SUMMCNT': 59232},\n",
       "  {'CONTSID': 34657844, 'LIKEYN': 'N', 'SUMMCNT': 190730},\n",
       "  {'CONTSID': 36001290, 'LIKEYN': 'N', 'SUMMCNT': 83639},\n",
       "  {'CONTSID': 36604256, 'LIKEYN': 'N', 'SUMMCNT': 54944},\n",
       "  {'CONTSID': 36241824, 'LIKEYN': 'N', 'SUMMCNT': 55714},\n",
       "  {'CONTSID': 36546902, 'LIKEYN': 'N', 'SUMMCNT': 29544},\n",
       "  {'CONTSID': 4446485, 'LIKEYN': 'N', 'SUMMCNT': 269995},\n",
       "  {'CONTSID': 36546899, 'LIKEYN': 'N', 'SUMMCNT': 27929},\n",
       "  {'CONTSID': 36440243, 'LIKEYN': 'N', 'SUMMCNT': 22594},\n",
       "  {'CONTSID': 36546903, 'LIKEYN': 'N', 'SUMMCNT': 27954},\n",
       "  {'CONTSID': 36635523, 'LIKEYN': 'N', 'SUMMCNT': 17134},\n",
       "  {'CONTSID': 36518341, 'LIKEYN': 'N', 'SUMMCNT': 25431},\n",
       "  {'CONTSID': 36546905, 'LIKEYN': 'N', 'SUMMCNT': 27224},\n",
       "  {'CONTSID': 36546906, 'LIKEYN': 'N', 'SUMMCNT': 27085},\n",
       "  {'CONTSID': 36428682, 'LIKEYN': 'N', 'SUMMCNT': 47608},\n",
       "  {'CONTSID': 35667692, 'LIKEYN': 'N', 'SUMMCNT': 21238},\n",
       "  {'CONTSID': 36637828, 'LIKEYN': 'N', 'SUMMCNT': 9357},\n",
       "  {'CONTSID': 35299693, 'LIKEYN': 'N', 'SUMMCNT': 85314},\n",
       "  {'CONTSID': 36394038, 'LIKEYN': 'N', 'SUMMCNT': 31584},\n",
       "  {'CONTSID': 33658563, 'LIKEYN': 'N', 'SUMMCNT': 267687},\n",
       "  {'CONTSID': 34431086, 'LIKEYN': 'N', 'SUMMCNT': 170344},\n",
       "  {'CONTSID': 36365073, 'LIKEYN': 'N', 'SUMMCNT': 68924},\n",
       "  {'CONTSID': 36500102, 'LIKEYN': 'N', 'SUMMCNT': 22032},\n",
       "  {'CONTSID': 36616378, 'LIKEYN': 'N', 'SUMMCNT': 10424},\n",
       "  {'CONTSID': 36480197, 'LIKEYN': 'N', 'SUMMCNT': 23790},\n",
       "  {'CONTSID': 35535827, 'LIKEYN': 'N', 'SUMMCNT': 111795},\n",
       "  {'CONTSID': 34754292, 'LIKEYN': 'N', 'SUMMCNT': 240298},\n",
       "  {'CONTSID': 34864406, 'LIKEYN': 'N', 'SUMMCNT': 170088},\n",
       "  {'CONTSID': 35252996, 'LIKEYN': 'N', 'SUMMCNT': 84640},\n",
       "  {'CONTSID': 36322781, 'LIKEYN': 'N', 'SUMMCNT': 63785},\n",
       "  {'CONTSID': 35730562, 'LIKEYN': 'N', 'SUMMCNT': 161987},\n",
       "  {'CONTSID': 33496587, 'LIKEYN': 'N', 'SUMMCNT': 174379},\n",
       "  {'CONTSID': 36517231, 'LIKEYN': 'N', 'SUMMCNT': 11980},\n",
       "  {'CONTSID': 35643794, 'LIKEYN': 'N', 'SUMMCNT': 88169},\n",
       "  {'CONTSID': 36359275, 'LIKEYN': 'N', 'SUMMCNT': 38750},\n",
       "  {'CONTSID': 36595401, 'LIKEYN': 'N', 'SUMMCNT': 19481}],\n",
       " 'httpDomain': 'http://www.melon.com',\n",
       " 'httpsDomain': 'https://www.melon.com',\n",
       " 'staticDomain': 'https://static.melon.co.kr'}"
      ]
     },
     "execution_count": 50,
     "metadata": {},
     "output_type": "execute_result"
    }
   ],
   "source": [
    "res.json()"
   ]
  },
  {
   "cell_type": "code",
   "execution_count": 53,
   "id": "a0fa347e",
   "metadata": {},
   "outputs": [
    {
     "data": {
      "text/plain": [
       "100"
      ]
     },
     "execution_count": 53,
     "metadata": {},
     "output_type": "execute_result"
    }
   ],
   "source": [
    "# dict comprehension\n",
    "likes_dict = { \n",
    "    str(song[\"CONTSID\"]) : int(song[\"SUMMCNT\"])\n",
    "    for song in res.json()['contsLike'] \n",
    "}\n",
    "\n",
    "len(likes_dict)"
   ]
  },
  {
   "cell_type": "code",
   "execution_count": 54,
   "id": "af969916",
   "metadata": {},
   "outputs": [
    {
     "name": "stdout",
     "output_type": "stream",
     "text": [
      "(100, 6)\n"
     ]
    },
    {
     "data": {
      "text/html": [
       "<div>\n",
       "<style scoped>\n",
       "    .dataframe tbody tr th:only-of-type {\n",
       "        vertical-align: middle;\n",
       "    }\n",
       "\n",
       "    .dataframe tbody tr th {\n",
       "        vertical-align: top;\n",
       "    }\n",
       "\n",
       "    .dataframe thead th {\n",
       "        text-align: right;\n",
       "    }\n",
       "</style>\n",
       "<table border=\"1\" class=\"dataframe\">\n",
       "  <thead>\n",
       "    <tr style=\"text-align: right;\">\n",
       "      <th></th>\n",
       "      <th>앨범명</th>\n",
       "      <th>곡명</th>\n",
       "      <th>가수명</th>\n",
       "      <th>커버이미지_주소</th>\n",
       "      <th>순위</th>\n",
       "      <th>좋아요수</th>\n",
       "    </tr>\n",
       "    <tr>\n",
       "      <th>곡일련번호</th>\n",
       "      <th></th>\n",
       "      <th></th>\n",
       "      <th></th>\n",
       "      <th></th>\n",
       "      <th></th>\n",
       "      <th></th>\n",
       "    </tr>\n",
       "  </thead>\n",
       "  <tbody>\n",
       "    <tr>\n",
       "      <th>36599950</th>\n",
       "      <td>NewJeans 2nd EP 'Get Up'</td>\n",
       "      <td>Super Shy</td>\n",
       "      <td>NewJeans</td>\n",
       "      <td>https://cdnimg.melon.co.kr/cm2/album/images/11...</td>\n",
       "      <td>1</td>\n",
       "      <td>102895</td>\n",
       "    </tr>\n",
       "    <tr>\n",
       "      <th>36617841</th>\n",
       "      <td>Seven (feat. Latto) - Clean Ver.</td>\n",
       "      <td>Seven (feat. Latto) - Clean Ver.</td>\n",
       "      <td>정국</td>\n",
       "      <td>https://cdnimg.melon.co.kr/cm2/album/images/11...</td>\n",
       "      <td>2</td>\n",
       "      <td>107102</td>\n",
       "    </tr>\n",
       "    <tr>\n",
       "      <th>36635522</th>\n",
       "      <td>NewJeans 2nd EP 'Get Up'</td>\n",
       "      <td>ETA</td>\n",
       "      <td>NewJeans</td>\n",
       "      <td>https://cdnimg.melon.co.kr/cm2/album/images/11...</td>\n",
       "      <td>3</td>\n",
       "      <td>43352</td>\n",
       "    </tr>\n",
       "    <tr>\n",
       "      <th>36430773</th>\n",
       "      <td>I feel</td>\n",
       "      <td>퀸카 (Queencard)</td>\n",
       "      <td>(여자)아이들</td>\n",
       "      <td>https://cdnimg.melon.co.kr/cm2/album/images/11...</td>\n",
       "      <td>4</td>\n",
       "      <td>122594</td>\n",
       "    </tr>\n",
       "    <tr>\n",
       "      <th>36382580</th>\n",
       "      <td>1집 Alone</td>\n",
       "      <td>헤어지자 말해요</td>\n",
       "      <td>박재정</td>\n",
       "      <td>https://cdnimg.melon.co.kr/cm2/album/images/11...</td>\n",
       "      <td>5</td>\n",
       "      <td>88980</td>\n",
       "    </tr>\n",
       "  </tbody>\n",
       "</table>\n",
       "</div>"
      ],
      "text/plain": [
       "                                       앨범명                                곡명  \\\n",
       "곡일련번호                                                                          \n",
       "36599950          NewJeans 2nd EP 'Get Up'                         Super Shy   \n",
       "36617841  Seven (feat. Latto) - Clean Ver.  Seven (feat. Latto) - Clean Ver.   \n",
       "36635522          NewJeans 2nd EP 'Get Up'                               ETA   \n",
       "36430773                            I feel                    퀸카 (Queencard)   \n",
       "36382580                          1집 Alone                          헤어지자 말해요   \n",
       "\n",
       "               가수명                                           커버이미지_주소  순위  \\\n",
       "곡일련번호                                                                       \n",
       "36599950  NewJeans  https://cdnimg.melon.co.kr/cm2/album/images/11...   1   \n",
       "36617841        정국  https://cdnimg.melon.co.kr/cm2/album/images/11...   2   \n",
       "36635522  NewJeans  https://cdnimg.melon.co.kr/cm2/album/images/11...   3   \n",
       "36430773   (여자)아이들  https://cdnimg.melon.co.kr/cm2/album/images/11...   4   \n",
       "36382580       박재정  https://cdnimg.melon.co.kr/cm2/album/images/11...   5   \n",
       "\n",
       "            좋아요수  \n",
       "곡일련번호             \n",
       "36599950  102895  \n",
       "36617841  107102  \n",
       "36635522   43352  \n",
       "36430773  122594  \n",
       "36382580   88980  "
      ]
     },
     "execution_count": 54,
     "metadata": {},
     "output_type": "execute_result"
    }
   ],
   "source": [
    "df[\"좋아요수\"] = likes_dict\n",
    "print(df.shape)\n",
    "df.head()"
   ]
  },
  {
   "cell_type": "code",
   "execution_count": 59,
   "id": "0d5e1b59",
   "metadata": {},
   "outputs": [
    {
     "data": {
      "text/plain": [
       "가수명\n",
       "임영웅                     15\n",
       "NCT DREAM               11\n",
       "NewJeans                10\n",
       "방탄소년단                    6\n",
       "IVE (아이브)                4\n",
       "Charlie Puth             4\n",
       "(여자)아이들                  4\n",
       "정국                       3\n",
       "LE SSERAFIM (르세라핌)       3\n",
       "이무진                      1\n",
       "#안녕                      1\n",
       "윤하 (YOUNHA)              1\n",
       "우디 (Woody)               1\n",
       "오마이걸 (OH MY GIRL)        1\n",
       "세븐틴 (SEVENTEEN)          1\n",
       "성시경                      1\n",
       "이채연                      1\n",
       "제이세라                     1\n",
       "임재현                      1\n",
       "임한별                      1\n",
       "지민                       1\n",
       "지수 (JISOO)               1\n",
       "지아                       1\n",
       "케이시 (Kassy)              1\n",
       "탑현                       1\n",
       "테이                       1\n",
       "부석순 (SEVENTEEN)          1\n",
       "던 (DAWN)                 1\n",
       "박재정                      1\n",
       "The Kid LAROI            1\n",
       "Agust D                  1\n",
       "DK(디셈버)                  1\n",
       "EXO                      1\n",
       "FIFTY FIFTY              1\n",
       "H1-KEY (하이키)             1\n",
       "Lauv                     1\n",
       "Paul Blanco              1\n",
       "STAYC(스테이씨)              1\n",
       "ZEROBASEONE (제로베이스원)     1\n",
       "멜로망스                     1\n",
       "aespa                    1\n",
       "imase                    1\n",
       "j-hope                   1\n",
       "경서                       1\n",
       "경서예지                     1\n",
       "김민석 (멜로망스)               1\n",
       "김호중                      1\n",
       "로이킴                      1\n",
       "허각                       1\n",
       "dtype: int64"
      ]
     },
     "execution_count": 59,
     "metadata": {},
     "output_type": "execute_result"
    }
   ],
   "source": [
    "song_count_series = df.groupby(\"가수명\").size().sort_values(ascending=False)\n",
    "song_count_series"
   ]
  },
  {
   "cell_type": "code",
   "execution_count": 61,
   "id": "bfc8ef22",
   "metadata": {},
   "outputs": [],
   "source": [
    "import matplotlib.pyplot as plt # 정적 이미지 생성\n",
    "import platform\n",
    "\n",
    "if platform.system() == \"Darwin\":\n",
    "    plt.rc(\"font\", family=\"AppleGothic\")  # macOS 시스템 기본 폰트\n",
    "\n",
    "elif platform.system() == \"Windows\":\n",
    "    plt.rc(\"font\", family=\"Malgun Gothic\")  # Windows 시스템 기본 폰트"
   ]
  },
  {
   "cell_type": "code",
   "execution_count": 67,
   "id": "d9259278",
   "metadata": {},
   "outputs": [
    {
     "data": {
      "text/plain": [
       "<Axes: xlabel='가수명'>"
      ]
     },
     "execution_count": 67,
     "metadata": {},
     "output_type": "execute_result"
    },
    {
     "data": {
      "image/png": "[encoded data removed]",
      "text/plain": [
       "<Figure size 2000x500 with 1 Axes>"
      ]
     },
     "metadata": {},
     "output_type": "display_data"
    }
   ],
   "source": [
    "song_count_series.plot(kind=\"bar\", figsize=(20,5))\n"
   ]
  },
  {
   "cell_type": "code",
   "execution_count": 75,
   "id": "fdc1b91a",
   "metadata": {},
   "outputs": [
    {
     "data": {
      "text/plain": [
       "가수명\n",
       "임영웅                   15\n",
       "NCT DREAM             11\n",
       "NewJeans              10\n",
       "방탄소년단                  6\n",
       "IVE (아이브)              4\n",
       "Charlie Puth           4\n",
       "(여자)아이들                4\n",
       "정국                     3\n",
       "LE SSERAFIM (르세라핌)     3\n",
       "dtype: int64"
      ]
     },
     "execution_count": 75,
     "metadata": {},
     "output_type": "execute_result"
    }
   ],
   "source": [
    "mask = song_count_series > 1  # boolean mask\n",
    "chart_series = song_count_series[mask] # 필터링 해서 보여줌\n",
    "chart_series"
   ]
  },
  {
   "cell_type": "code",
   "execution_count": 79,
   "id": "78217c48",
   "metadata": {},
   "outputs": [
    {
     "data": {
      "text/plain": [
       "가수명\n",
       "임영웅                   15\n",
       "NCT DREAM             11\n",
       "NewJeans              10\n",
       "방탄소년단                  6\n",
       "IVE (아이브)              4\n",
       "Charlie Puth           4\n",
       "(여자)아이들                4\n",
       "정국                     3\n",
       "LE SSERAFIM (르세라핌)     3\n",
       "Others                40\n",
       "dtype: int64"
      ]
     },
     "execution_count": 79,
     "metadata": {},
     "output_type": "execute_result"
    }
   ],
   "source": [
    "mask = song_count_series == 1\n",
    "chart_series[\"Others\"] = song_count_series[mask].sum() # count() 도 가능\n",
    "chart_series"
   ]
  },
  {
   "cell_type": "code",
   "execution_count": 82,
   "id": "79663fb1",
   "metadata": {
    "scrolled": true
   },
   "outputs": [
    {
     "data": {
      "text/plain": [
       "<Axes: >"
      ]
     },
     "execution_count": 82,
     "metadata": {},
     "output_type": "execute_result"
    },
    {
     "data": {
      "image/png": "[encoded data removed]",
      "text/plain": [
       "<Figure size 640x480 with 1 Axes>"
      ]
     },
     "metadata": {},
     "output_type": "display_data"
    }
   ],
   "source": [
    "chart_series.plot(kind=\"pie\")"
   ]
  },
  {
   "cell_type": "code",
   "execution_count": 84,
   "id": "a37acace",
   "metadata": {},
   "outputs": [],
   "source": [
    "# 엑셀에서 열어볼 것이다. => utf-8-sig\n",
    "# ELSE = > utf8\n",
    "df.to_csv(\"melon_TOP100-utf-8-sig.csv\", encoding=\"utf-8-sig\") #utf8, utf-8-sig"
   ]
  }
 ],
 "metadata": {
  "kernelspec": {
   "display_name": "python3_8_5",
   "language": "python",
   "name": "py3_8_5"
  },
  "language_info": {
   "codemirror_mode": {
    "name": "ipython",
    "version": 3
   },
   "file_extension": ".py",
   "mimetype": "text/x-python",
   "name": "python",
   "nbconvert_exporter": "python",
   "pygments_lexer": "ipython3",
   "version": "3.8.5"
  }
 },
 "nbformat": 4,
 "nbformat_minor": 5
}
