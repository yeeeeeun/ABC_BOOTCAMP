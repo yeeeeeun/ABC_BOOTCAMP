{
 "cells": [
  {
   "cell_type": "code",
   "execution_count": 24,
   "id": "08970547",
   "metadata": {},
   "outputs": [],
   "source": [
    "import requests \n",
    "from bs4 import BeautifulSoup \n",
    "from urllib.parse import urljoin"
   ]
  },
  {
   "cell_type": "code",
   "execution_count": null,
   "id": "64290895",
   "metadata": {},
   "outputs": [],
   "source": [
    "# 회차 목록 크롤링"
   ]
  },
  {
   "cell_type": "code",
   "execution_count": 33,
   "id": "7c0a001d",
   "metadata": {},
   "outputs": [],
   "source": [
    "\n",
    "def 웹툰_회차_목록_가져오기(title_id, page=1):\n",
    "    \"\"\"\n",
    "    지정된 title_id의 웹툰 목록에서 지정 page의 회차 목록을 리스트로 반환합니다.\n",
    "    \"\"\"\n",
    "    # index_page_url = \"https://m.comic.naver.com/webtoon/list?titleId=769209&page=1\"  # 화산귀환\n",
    "    # index_page_url = f\"https://m.comic.naver.com/webtoon/list?titleId={title_id}&page={page}\"         # 전독시\n",
    "\n",
    "    index_page_url = \"https://m.comic.naver.com/webtoon/list\"\n",
    "    params = {  # parameters\n",
    "        \"titleId\": title_id,\n",
    "        \"page\": page,\n",
    "    }\n",
    "    \n",
    "    res = requests.get(index_page_url, params=params)\n",
    "    html = res.text\n",
    "    soup = BeautifulSoup(html, \"html.parser\")\n",
    "    \n",
    "    ep_tag_list = soup.select(\"[data-title-id]\")\n",
    "    ep_list = []  # ADDED\n",
    "    \n",
    "    for ep_tag in ep_tag_list:\n",
    "        ep_title_id = ep_tag[\"data-title-id\"]\n",
    "        ep_no = ep_tag[\"data-no\"]\n",
    "        ep_title = ep_tag.select_one(\".title\").text.strip()\n",
    "        ep_url = ep_tag.select_one(\"a\")[\"href\"]\n",
    "        if ep_url != \"#\":\n",
    "            ep_url = urljoin(index_page_url, ep_url)\n",
    "            # print(ep_title, ep_url)\n",
    "            ep_list.append({\n",
    "                \"title\": ep_title,\n",
    "                \"url\": ep_url,\n",
    "                \"title_id\": ep_title_id,\n",
    "                \"no\": ep_no,\n",
    "            })  # ADDED\n",
    "    \n",
    "    # len(ep_list)  # ADDED\n",
    "\n",
    "    return ep_list"
   ]
  },
  {
   "cell_type": "code",
   "execution_count": 26,
   "id": "53ba0b47",
   "metadata": {},
   "outputs": [
    {
     "data": {
      "text/plain": [
       "[{'title': '072. Ep.15 왕이 없는 세계 (8)',\n",
       "  'url': 'https://m.comic.naver.com/webtoon/detail?titleId=747269&no=73&week=wed&listSortOrder=DESC&listPage=4',\n",
       "  'title_id': '747269',\n",
       "  'no': '73'},\n",
       " {'title': '071. Ep.15 왕이 없는 세계 (7)',\n",
       "  'url': 'https://m.comic.naver.com/webtoon/detail?titleId=747269&no=72&week=wed&listSortOrder=DESC&listPage=4',\n",
       "  'title_id': '747269',\n",
       "  'no': '72'},\n",
       " {'title': '070. Ep.15 왕이 없는 세계 (6)',\n",
       "  'url': 'https://m.comic.naver.com/webtoon/detail?titleId=747269&no=71&week=wed&listSortOrder=DESC&listPage=4',\n",
       "  'title_id': '747269',\n",
       "  'no': '71'},\n",
       " {'title': '069. Ep.15 왕이 없는 세계 (5)',\n",
       "  'url': 'https://m.comic.naver.com/webtoon/detail?titleId=747269&no=70&week=wed&listSortOrder=DESC&listPage=4',\n",
       "  'title_id': '747269',\n",
       "  'no': '70'},\n",
       " {'title': '068. Ep.15 왕이 없는 세계 (4)',\n",
       "  'url': 'https://m.comic.naver.com/webtoon/detail?titleId=747269&no=69&week=wed&listSortOrder=DESC&listPage=4',\n",
       "  'title_id': '747269',\n",
       "  'no': '69'},\n",
       " {'title': '067. Ep.15 왕이 없는 세계 (3)',\n",
       "  'url': 'https://m.comic.naver.com/webtoon/detail?titleId=747269&no=68&week=wed&listSortOrder=DESC&listPage=4',\n",
       "  'title_id': '747269',\n",
       "  'no': '68'},\n",
       " {'title': '066. Ep.15 왕이 없는 세계 (2)',\n",
       "  'url': 'https://m.comic.naver.com/webtoon/detail?titleId=747269&no=67&week=wed&listSortOrder=DESC&listPage=4',\n",
       "  'title_id': '747269',\n",
       "  'no': '67'},\n",
       " {'title': '065. Ep.15 왕이 없는 세계 (1)',\n",
       "  'url': 'https://m.comic.naver.com/webtoon/detail?titleId=747269&no=66&week=wed&listSortOrder=DESC&listPage=4',\n",
       "  'title_id': '747269',\n",
       "  'no': '66'},\n",
       " {'title': '064. Ep.14 왕좌의 주인 (4)',\n",
       "  'url': 'https://m.comic.naver.com/webtoon/detail?titleId=747269&no=65&week=wed&listSortOrder=DESC&listPage=4',\n",
       "  'title_id': '747269',\n",
       "  'no': '65'},\n",
       " {'title': '063. Ep.14 왕좌의 주인 (3)',\n",
       "  'url': 'https://m.comic.naver.com/webtoon/detail?titleId=747269&no=64&week=wed&listSortOrder=DESC&listPage=4',\n",
       "  'title_id': '747269',\n",
       "  'no': '64'},\n",
       " {'title': '062. Ep.14 왕좌의 주인 (2)',\n",
       "  'url': 'https://m.comic.naver.com/webtoon/detail?titleId=747269&no=63&week=wed&listSortOrder=DESC&listPage=4',\n",
       "  'title_id': '747269',\n",
       "  'no': '63'},\n",
       " {'title': '061. Ep.14 왕좌의 주인 (1)',\n",
       "  'url': 'https://m.comic.naver.com/webtoon/detail?titleId=747269&no=62&week=wed&listSortOrder=DESC&listPage=4',\n",
       "  'title_id': '747269',\n",
       "  'no': '62'},\n",
       " {'title': '060. Ep.13 왕들의 전쟁 (4)',\n",
       "  'url': 'https://m.comic.naver.com/webtoon/detail?titleId=747269&no=61&week=wed&listSortOrder=DESC&listPage=4',\n",
       "  'title_id': '747269',\n",
       "  'no': '61'},\n",
       " {'title': '059. Ep.13 왕들의 전쟁 (3)',\n",
       "  'url': 'https://m.comic.naver.com/webtoon/detail?titleId=747269&no=60&week=wed&listSortOrder=DESC&listPage=4',\n",
       "  'title_id': '747269',\n",
       "  'no': '60'},\n",
       " {'title': '058. Ep.13 왕들의 전쟁 (2)',\n",
       "  'url': 'https://m.comic.naver.com/webtoon/detail?titleId=747269&no=59&week=wed&listSortOrder=DESC&listPage=4',\n",
       "  'title_id': '747269',\n",
       "  'no': '59'},\n",
       " {'title': '057. Ep.13 왕들의 전쟁 (1)',\n",
       "  'url': 'https://m.comic.naver.com/webtoon/detail?titleId=747269&no=58&week=wed&listSortOrder=DESC&listPage=4',\n",
       "  'title_id': '747269',\n",
       "  'no': '58'},\n",
       " {'title': '056. Ep.12 1인칭 주인공 시점 (4)',\n",
       "  'url': 'https://m.comic.naver.com/webtoon/detail?titleId=747269&no=57&week=wed&listSortOrder=DESC&listPage=4',\n",
       "  'title_id': '747269',\n",
       "  'no': '57'},\n",
       " {'title': '055. Ep.12 1인칭 주인공 시점 (3)',\n",
       "  'url': 'https://m.comic.naver.com/webtoon/detail?titleId=747269&no=56&week=wed&listSortOrder=DESC&listPage=4',\n",
       "  'title_id': '747269',\n",
       "  'no': '56'},\n",
       " {'title': '054. Ep.12 1인칭 주인공 시점 (2)',\n",
       "  'url': 'https://m.comic.naver.com/webtoon/detail?titleId=747269&no=55&week=wed&listSortOrder=DESC&listPage=4',\n",
       "  'title_id': '747269',\n",
       "  'no': '55'},\n",
       " {'title': '053. Ep.12 1인칭 주인공 시점 (1)',\n",
       "  'url': 'https://m.comic.naver.com/webtoon/detail?titleId=747269&no=54&week=wed&listSortOrder=DESC&listPage=4',\n",
       "  'title_id': '747269',\n",
       "  'no': '54'},\n",
       " {'title': '052. Ep.11 선지자들의 밤 (4)',\n",
       "  'url': 'https://m.comic.naver.com/webtoon/detail?titleId=747269&no=53&week=wed&listSortOrder=DESC&listPage=4',\n",
       "  'title_id': '747269',\n",
       "  'no': '53'},\n",
       " {'title': '051. Ep.11 선지자들의 밤 (3)',\n",
       "  'url': 'https://m.comic.naver.com/webtoon/detail?titleId=747269&no=52&week=wed&listSortOrder=DESC&listPage=4',\n",
       "  'title_id': '747269',\n",
       "  'no': '52'},\n",
       " {'title': '050. Ep.11 선지자들의 밤 (2)',\n",
       "  'url': 'https://m.comic.naver.com/webtoon/detail?titleId=747269&no=51&week=wed&listSortOrder=DESC&listPage=4',\n",
       "  'title_id': '747269',\n",
       "  'no': '51'},\n",
       " {'title': '049. Ep.11 선지자들의 밤 (1)',\n",
       "  'url': 'https://m.comic.naver.com/webtoon/detail?titleId=747269&no=50&week=wed&listSortOrder=DESC&listPage=4',\n",
       "  'title_id': '747269',\n",
       "  'no': '50'},\n",
       " {'title': '048. Ep.10 미래 전쟁 (5)',\n",
       "  'url': 'https://m.comic.naver.com/webtoon/detail?titleId=747269&no=49&week=wed&listSortOrder=DESC&listPage=4',\n",
       "  'title_id': '747269',\n",
       "  'no': '49'},\n",
       " {'title': '047. Ep.10 미래 전쟁 (4)',\n",
       "  'url': 'https://m.comic.naver.com/webtoon/detail?titleId=747269&no=48&week=wed&listSortOrder=DESC&listPage=4',\n",
       "  'title_id': '747269',\n",
       "  'no': '48'},\n",
       " {'title': '046. Ep.10 미래 전쟁 (3)',\n",
       "  'url': 'https://m.comic.naver.com/webtoon/detail?titleId=747269&no=47&week=wed&listSortOrder=DESC&listPage=4',\n",
       "  'title_id': '747269',\n",
       "  'no': '47'},\n",
       " {'title': '045. Ep.10 미래 전쟁 (2)',\n",
       "  'url': 'https://m.comic.naver.com/webtoon/detail?titleId=747269&no=46&week=wed&listSortOrder=DESC&listPage=4',\n",
       "  'title_id': '747269',\n",
       "  'no': '46'},\n",
       " {'title': '044. Ep.10 미래 전쟁 (1)',\n",
       "  'url': 'https://m.comic.naver.com/webtoon/detail?titleId=747269&no=45&week=wed&listSortOrder=DESC&listPage=4',\n",
       "  'title_id': '747269',\n",
       "  'no': '45'},\n",
       " {'title': '043. Ep.09 전지적 개복치 (7)',\n",
       "  'url': 'https://m.comic.naver.com/webtoon/detail?titleId=747269&no=44&week=wed&listSortOrder=DESC&listPage=4',\n",
       "  'title_id': '747269',\n",
       "  'no': '44'}]"
      ]
     },
     "execution_count": 26,
     "metadata": {},
     "output_type": "execute_result"
    }
   ],
   "source": [
    "화산귀환_아이디 = \"747269\"\n",
    "\n",
    "웹툰_회차_목록_가져오기(화산귀환_아이디, 4)"
   ]
  },
  {
   "cell_type": "code",
   "execution_count": null,
   "id": "4504cf6c",
   "metadata": {},
   "outputs": [],
   "source": [
    "# 웹툰 이미지 주소 리스트 뽑아내기"
   ]
  },
  {
   "cell_type": "code",
   "execution_count": 36,
   "id": "1acf03ff",
   "metadata": {},
   "outputs": [],
   "source": [
    "# url = \"https://m.comic.naver.com/webtoon/detail?titleId=747269&no=163&week=wed&listSortOrder=DESC&listPage=1\"\n",
    "\n",
    "def 웹툰_특정회차_이미지_목록_가져오기(title_id, no) :\n",
    "    url = \"https://m.comic.naver.com/webtoon/detail\"\n",
    "    params = {\n",
    "        \"titleId\" : title_id,\n",
    "        \"no\" : no,\n",
    "        \"week\" : \"wed\",\n",
    "        \"listSortOrder\" : \"DESC\",\n",
    "        \"listPage\" : 1,\n",
    "    }\n",
    "    res = requests.get(url, params=params)\n",
    "    html = res.text\n",
    "    soup = BeautifulSoup(html, \"html.parser\")\n",
    "    image_url_list = []\n",
    "\n",
    "    image_tag_list = soup.select(\".toon_image\")\n",
    "    for image_tag in image_tag_list:\n",
    "        image_url = image_tag[\"data-src\"]\n",
    "        image_url_list.append(image_url)\n",
    "        \n",
    "    return image_url_list"
   ]
  },
  {
   "cell_type": "code",
   "execution_count": 28,
   "id": "b40cb7ce",
   "metadata": {},
   "outputs": [
    {
     "data": {
      "text/plain": [
       "91"
      ]
     },
     "execution_count": 28,
     "metadata": {},
     "output_type": "execute_result"
    }
   ],
   "source": [
    "image_url_list = 웹툰_특정회차_이미지_목록_가져오기(화산귀환_아이디, 163)\n",
    "len(image_url_list)"
   ]
  },
  {
   "cell_type": "code",
   "execution_count": 31,
   "id": "89eda391",
   "metadata": {},
   "outputs": [],
   "source": [
    "title_id = 747269\n",
    "no = 163\n",
    "\n",
    "import os\n",
    "from tqdm.notebook import tqdm\n",
    "\n",
    "def 웹툰_특정회차_이미지_목록_다운받기(base_path, image_url_list) :\n",
    "    headers = {\n",
    "        \"User-Agent\": \"Mozilla/5.0 (Macintosh; Intel Mac OS X 10_15_7) AppleWebKit/537.36 (KHTML, like Gecko) Chrome/114.0.0.0 Safari/537.36\",\n",
    "    }\n",
    "\n",
    "    # 순차적으로 하나씩 요청해서 저장 : 멀티쓰레드, 멀티프로세스 등을 활용하면 좀 더 빠른 처리가 가능하다.\n",
    "\n",
    "    for image_url in tqdm(image_url_list):\n",
    "        res = requests.get(image_url, headers=headers)\n",
    "        res.raise_for_status()  # 정상아니면 예외 발생\n",
    "\n",
    "        image_filename = os.path.basename(image_url)  # 파일명 문자열만 뽑아줍니다.\n",
    "\n",
    "        # filepath = f\"a/b/c/\"\n",
    "        # filepath = os.path.join(\"a\", \"b\", \"c\")abs\n",
    "        \n",
    "        filepath = os.path.join(base_path, image_filename)\n",
    "\n",
    "        dirpath = os.path.dirname(filepath)\n",
    "        os.makedirs(dirpath, exist_ok=True)\n",
    "\n",
    "        image_data = res.content\n",
    "        with open(filepath, \"wb\") as f:\n",
    "            f.write(image_data)"
   ]
  },
  {
   "cell_type": "code",
   "execution_count": 32,
   "id": "63acb959",
   "metadata": {},
   "outputs": [
    {
     "name": "stdout",
     "output_type": "stream",
     "text": [
      "이미 다운받은 회차입니다. - 747269, 163\n"
     ]
    }
   ],
   "source": [
    "title_id = 747269\n",
    "no = 163\n",
    "\n",
    "base_path = os.path.join(\"webtoons\", str(title_id), str(no))\n",
    "if not os.path.exists(base_path) :  \n",
    "    웹툰_특정회차_이미지_목록_가져오기(base_path, image_url_list)\n",
    "else :\n",
    "    print(f\"이미 다운받은 회차입니다. - {title_id}, {no}\")"
   ]
  },
  {
   "cell_type": "code",
   "execution_count": null,
   "id": "f28aa0f2",
   "metadata": {},
   "outputs": [],
   "source": [
    "# 종합"
   ]
  },
  {
   "cell_type": "code",
   "execution_count": 38,
   "id": "1be965b4",
   "metadata": {},
   "outputs": [
    {
     "name": "stdout",
     "output_type": "stream",
     "text": [
      "30\n"
     ]
    },
    {
     "data": {
      "text/plain": [
       "{'title': '162. Ep. 28 최강의 희생양 (6)',\n",
       " 'url': 'https://m.comic.naver.com/webtoon/detail?titleId=747269&no=163&week=wed&listSortOrder=DESC&listPage=1',\n",
       " 'title_id': '747269',\n",
       " 'no': '163'}"
      ]
     },
     "execution_count": 38,
     "metadata": {},
     "output_type": "execute_result"
    }
   ],
   "source": [
    "title_id = 747269 # 화산귀환\n",
    "\n",
    "\n",
    "episode_list = 웹툰_회차_목록_가져오기(title_id)\n",
    "print(len(episode_list))\n",
    "episode_list[0]"
   ]
  },
  {
   "cell_type": "code",
   "execution_count": null,
   "id": "96d7f2aa",
   "metadata": {},
   "outputs": [],
   "source": [
    "for episode in episode_list :\n",
    "    \n",
    "    image_url_list = 웹툰_특정회차_이미지_목록_가져오기(episode[\"title_id\"], episode[\"no\"])\n",
    "    \n",
    "    base_path = os.path.join(\"webtoons\", str(episode[\"title_id\"]), str(episode[\"no\"]))\n",
    "    \n",
    "    if not os.path.exists (base_path):\n",
    "        print(f'{episode[\"title_id\"], }\")\n",
    "        \n",
    "    print(episode)\n",
    "    break\n",
    "    # 구현중에라서, 하나만 순회도록 합니다."
   ]
  }
 ],
 "metadata": {
  "kernelspec": {
   "display_name": "Python 3 (ipykernel)",
   "language": "python",
   "name": "python3"
  },
  "language_info": {
   "codemirror_mode": {
    "name": "ipython",
    "version": 3
   },
   "file_extension": ".py",
   "mimetype": "text/x-python",
   "name": "python",
   "nbconvert_exporter": "python",
   "pygments_lexer": "ipython3",
   "version": "3.11.3"
  }
 },
 "nbformat": 4,
 "nbformat_minor": 5
}
