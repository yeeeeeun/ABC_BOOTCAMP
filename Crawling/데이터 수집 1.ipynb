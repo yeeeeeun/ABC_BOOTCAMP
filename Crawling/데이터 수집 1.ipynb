{
 "cells": [
  {
   "cell_type": "code",
   "execution_count": 1,
   "id": "d438b4b6",
   "metadata": {},
   "outputs": [],
   "source": [
    "import requests"
   ]
  },
  {
   "cell_type": "code",
   "execution_count": 2,
   "id": "162cf7f4",
   "metadata": {},
   "outputs": [],
   "source": [
    "url = \"https://pyhub-kr.github.io/samples/abc-bootcamp-2023-crawl/lv1.html\""
   ]
  },
  {
   "cell_type": "code",
   "execution_count": 5,
   "id": "0408f08e",
   "metadata": {},
   "outputs": [],
   "source": [
    "res = requests.get(url)"
   ]
  },
  {
   "cell_type": "code",
   "execution_count": 6,
   "id": "9181d416",
   "metadata": {},
   "outputs": [
    {
     "data": {
      "text/plain": [
       "<Response [200]>"
      ]
     },
     "execution_count": 6,
     "metadata": {},
     "output_type": "execute_result"
    }
   ],
   "source": [
    "res "
   ]
  },
  {
   "cell_type": "code",
   "execution_count": 7,
   "id": "c6899f0a",
   "metadata": {},
   "outputs": [
    {
     "data": {
      "text/plain": [
       "200"
      ]
     },
     "execution_count": 7,
     "metadata": {},
     "output_type": "execute_result"
    }
   ],
   "source": [
    "res.status_code"
   ]
  },
  {
   "cell_type": "code",
   "execution_count": 8,
   "id": "57ec20ae",
   "metadata": {},
   "outputs": [
    {
     "data": {
      "text/plain": [
       "b'\\n<!doctype html>\\n<html lang=\"ko\">\\n<head>\\n<meta charset=\"utf-8\" />\\n<title>[\\xeb\\xa0\\x88\\xeb\\xb2\\xa81] \\xeb\\x8b\\xa8\\xec\\x88\\x9c HTML \\xed\\x81\\xac\\xeb\\xa1\\xa4\\xeb\\xa7\\x81</title>\\n</head>\\n<body>\\n<h1>\\xed\\x8c\\x8c\\xec\\x9d\\xb4\\xec\\x8d\\xac \\xec\\x82\\xac\\xeb\\x9e\\x91\\xeb\\xb0\\xa9</h1>\\n\\n<h2>[\\xeb\\xa0\\x88\\xeb\\xb2\\xa81] \\xeb\\x8b\\xa8\\xec\\x88\\x9c HTML \\xed\\x81\\xac\\xeb\\xa1\\xa4\\xeb\\xa7\\x81</h2>\\n\\n<p>\\xec\\xb5\\x9c\\xec\\xb4\\x88 HTML\\xec\\x97\\x90 \\xed\\x81\\xac\\xeb\\xa1\\xa4\\xeb\\xa7\\x81\\xed\\x95\\xa0 \\xeb\\x8d\\xb0\\xec\\x9d\\xb4\\xed\\x84\\xb0\\xea\\xb0\\x80 \\xec\\x9e\\x88\\xec\\x8a\\xb5\\xeb\\x8b\\x88\\xeb\\x8b\\xa4.</p>\\n\\n<div id=\"it-general\" class=\"category\">\\n    <h3>IT \\xec\\x9d\\xbc\\xeb\\xb0\\x98</h3>\\n    <ul>\\n        <li class=\"article\"><a href=\"https://n.news.naver.com/mnews/article/009/0005162012?sid=105\">\\xe2\\x80\\x98\\xeb\\xb0\\xb0\\xed\\x8b\\x80\\xea\\xb7\\xb8\\xeb\\x9d\\xbc\\xec\\x9a\\xb4\\xeb\\x93\\x9c \\xeb\\xaa\\xa8\\xeb\\xb0\\x94\\xec\\x9d\\xbc\\xe2\\x80\\x99, \\xec\\x98\\x81\\xea\\xb5\\xad \\xec\\x8a\\xa4\\xed\\x8f\\xac\\xec\\xb8\\xa0\\xec\\xb9\\xb4 \\xe2\\x80\\x98\\xec\\x95\\xa0\\xec\\x8a\\xa4\\xed\\x84\\xb4\\xeb\\xa7\\x88\\xed\\x8b\\xb4\\xe2\\x80\\x99 \\xeb\\x93\\xb1\\xec\\x9e\\xa5</a></li>\\n        <li class=\"article\"><a href=\"https://n.news.naver.com/mnews/article/008/0004915319?sid=105\">SK\\xeb\\xb8\\x8c\\xeb\\xa1\\x9c\\xeb\\x93\\x9c\\xeb\\xb0\\xb4\\xeb\\x93\\x9c, \\xec\\x8b\\xa0\\xec\\x9e\\x84 \\xec\\x82\\xac\\xec\\x9e\\xa5\\xec\\x97\\x90 \\xeb\\xb0\\x95\\xec\\xa7\\x84\\xed\\x9a\\xa8 \\xe5\\x89\\x8d SK\\xec\\x89\\xb4\\xeb\\x8d\\x94\\xec\\x8a\\xa4 \\xeb\\x8c\\x80\\xed\\x91\\x9c \\xeb\\x82\\xb4\\xec\\xa0\\x95</a></li>\\n        <li class=\"article\"><a href=\"https://n.news.naver.com/mnews/article/081/0003378966?sid=105\">\\xea\\xb7\\xb8 \\xeb\\xa7\\x8e\\xeb\\x8d\\x98 \\xea\\xb0\\x80\\xec\\x83\\x81\\xec\\x9d\\xb8\\xea\\xb0\\x84\\xec\\x9d\\x80 \\xeb\\x8b\\xa4 \\xec\\x96\\xb4\\xeb\\x94\\x94\\xeb\\xa1\\x9c \\xea\\xb0\\x94\\xec\\x9d\\x84\\xea\\xb9\\x8c</a></li>\\n        <li class=\"article\"><a href=\"https://n.news.naver.com/mnews/article/015/0004871028?sid=105\">\\xec\\x9d\\xbc\\xeb\\xb3\\xb8\\xec\\x9d\\xb8 \\xea\\xb4\\x80\\xea\\xb4\\x91\\xea\\xb0\\x9d 800\\xeb\\xa7\\x8c\\xec\\x9b\\x90 \\xeb\\x90\\x98\\xec\\xb0\\xbe\\xec\\x95\\x84\\xec\\xa4\\x80 \\xeb\\xb2\\x84\\xec\\x8a\\xa4 \\xea\\xb8\\xb0\\xec\\x82\\xac, \\xec\\xb9\\xb4\\xec\\xb9\\xb4\\xec\\x98\\xa4\\xeb\\xaa\\xa8\\xeb\\xb9\\x8c\\xeb\\xa6\\xac\\xed\\x8b\\xb0 \\xec\\x83\\x81 \\xeb\\xb0\\x9b\\xec\\x95\\x98\\xeb\\x8b\\xa4</a></li>\\n        <li class=\"article\"><a href=\"https://n.news.naver.com/mnews/article/081/0003378964?sid=105\">\\xec\\x83\\x81 \\xec\\xb2\\xab \\xec\\x86\\x8c\\xed\\x96\\x89\\xec\\x84\\xb1\\xec\\x97\\x90 \\xec\\x9a\\xb0\\xec\\xa3\\xbc\\xec\\x84\\xa0 \\xec\\xb6\\xa9\\xeb\\x8f\\x8c\\xeb\\xa1\\x9c \\xec\\x83\\x9d\\xea\\xb8\\xb4 \\xe2\\x80\\x9837\\xea\\xb0\\x9c \\xeb\\xb0\\x94\\xec\\x9c\\x84\\xe2\\x80\\x99 \\xec\\x9a\\xb0\\xec\\xa3\\xbc\\xeb\\xa5\\xbc \\xeb\\x96\\xa0\\xeb\\x8f\\x8c\\xeb\\x8b\\xa4 [\\xec\\x9a\\xb0\\xec\\xa3\\xbc\\xeb\\xa5\\xbc \\xeb\\xb3\\xb4\\xeb\\x8b\\xa4]</a></li>\\n    </ul>\\n</div>\\n\\n<div id=\"life\" class=\"category\">\\n    <h3>\\xec\\x83\\x9d\\xed\\x99\\x9c/\\xeb\\xac\\xb8\\xed\\x99\\x94</h3>\\n    <ul>\\n        <li class=\"article\"><a href=\"https://n.news.naver.com/mnews/article/001/0014083060?sid=103\">\\xec\\x88\\x9c\\xec\\xb0\\xbd \\xea\\xb0\\x95\\xec\\xb2\\x9c\\xec\\x82\\xb0\\xea\\xb5\\xb0\\xeb\\xa6\\xbd\\xea\\xb3\\xb5\\xec\\x9b\\x90 \\xed\\x9c\\xb4\\xea\\xb0\\x80\\xec\\xb2\\xa0 \\xec\\x95\\xbc\\xea\\xb0\\x84 \\xea\\xb0\\x9c\\xec\\x9e\\xa5\\xe2\\x80\\xa6\\xeb\\x8b\\xa4\\xec\\x96\\x91\\xed\\x95\\x9c \\xeb\\xb9\\x9b\\xec\\x9d\\x98 \\xed\\x96\\xa5\\xec\\x97\\xb0</a></li>\\n        <li class=\"article\"><a href=\"https://n.news.naver.com/mnews/article/003/0011988527?sid=103\">\\xec\\x9d\\xb4\\xec\\xa2\\x85\\xed\\x98\\xb8 \\xec\\x9e\\xa5\\xea\\xb4\\x80 \"\\xef\\xa6\\x81 \\xea\\xb3\\xb5\\xed\\x95\\x99\\xec\\x83\\x9d, \\xeb\\xaf\\xb8\\xeb\\x9e\\x98 \\xea\\xb3\\xbc\\xed\\x95\\x99\\xea\\xb8\\xb0\\xec\\x88\\xa0 \\xec\\x84\\xa0\\xeb\\x8f\\x84\\xed\\x95\\x98\\xeb\\x9d\\xbc\"</a></li>\\n        <li class=\"article\"><a href=\"https://n.news.naver.com/mnews/article/014/0005045785?sid=103\">\\xea\\xb0\\x95\\xec\\x9b\\x90\\xeb\\x9e\\x9c\\xeb\\x93\\x9c, \\'\\xed\\x95\\x98\\xec\\x9d\\xb4\\xec\\x9b\\x90 \\xed\\x94\\x84\\xeb\\xa6\\xac\\xeb\\xaf\\xb8\\xec\\x97\\x84 \\xec\\x8a\\xa4\\xed\\x86\\xa0\\xec\\x96\\xb4\\' \\xea\\xb7\\xb8\\xeb\\x9e\\x9c\\xeb\\x93\\x9c \\xec\\x98\\xa4\\xed\\x94\\x88</a></li>\\n        <li class=\"article\"><a href=\"https://n.news.naver.com/mnews/article/421/0006943371?sid=103\">\\xec\\x88\\x9c\\xec\\xb0\\xbd \\xea\\xb0\\x95\\xec\\xb2\\x9c\\xec\\x82\\xb0 \\xec\\x95\\xbc\\xea\\xb0\\x84 \\xea\\xb0\\x9c\\xec\\x9e\\xa5\\xe2\\x80\\xa6\\xeb\\xb0\\x98\\xeb\\x94\\xa7\\xeb\\xb6\\x88 \\xec\\xa1\\xb0\\xeb\\xaa\\x85 \\xeb\\x93\\xb1 \\xeb\\x8b\\xa4\\xec\\x96\\x91\\xed\\x95\\x9c \\xeb\\xb9\\x9b\\xec\\x9d\\x98 \\xed\\x96\\xa5\\xec\\x97\\xb0</a></li>\\n        <li class=\"article\"><a href=\"https://n.news.naver.com/mnews/article/001/0014082813?sid=103\">\\xec\\x9b\\x90 \\xea\\xb3\\xa0\\xec\\x84\\x9d\\xec\\xa0\\x95 \\xea\\xbd\\x83\\xeb\\xb0\\xad, \\xea\\xb0\\x80\\xec\\x9d\\x84\\xec\\xb2\\xa0 \\xea\\xb0\\x9c\\xec\\x9e\\xa5 \\xec\\x95\\x9e\\xeb\\x91\\x90\\xea\\xb3\\xa0 \\xeb\\xa7\\x89\\xeb\\xb0\\x94\\xec\\xa7\\x80 \\xec\\xa4\\x80\\xeb\\xb9\\x84 \\xed\\x95\\x9c\\xec\\xb0\\xbd</a></li>\\n    </ul>\\n</div>\\n\\n<hr/>\\n\\n<h3>TODO</h3>\\n\\n<ul>\\n    <li>\\xec\\x9c\\x84 \\xea\\xb8\\xb0\\xec\\x82\\xac\\xec\\x9d\\x98 \\xec\\xa0\\x9c\\xeb\\xaa\\xa9\\xea\\xb3\\xbc URL\\xec\\x9d\\x84 \\xeb\\xbd\\x91\\xec\\x95\\x84\\xec\\x84\\x9c \\xec\\xb6\\x9c\\xeb\\xa0\\xa5\\xed\\x95\\xb4\\xeb\\xb3\\xb4\\xec\\x84\\xb8\\xec\\x9a\\x94.</li>\\n</ul>\\n\\n\\xec\\x8b\\xa4\\xed\\x96\\x89 \\xec\\x98\\x88\\xec\\x8b\\x9c\\n\\n<pre>\\n\\xe2\\x80\\x98\\xeb\\xb0\\xb0\\xed\\x8b\\x80\\xea\\xb7\\xb8\\xeb\\x9d\\xbc\\xec\\x9a\\xb4\\xeb\\x93\\x9c \\xeb\\xaa\\xa8\\xeb\\xb0\\x94\\xec\\x9d\\xbc\\xe2\\x80\\x99, \\xec\\x98\\x81\\xea\\xb5\\xad \\xec\\x8a\\xa4\\xed\\x8f\\xac\\xec\\xb8\\xa0\\xec\\xb9\\xb4 \\xe2\\x80\\x98\\xec\\x95\\xa0\\xec\\x8a\\xa4\\xed\\x84\\xb4\\xeb\\xa7\\x88\\xed\\x8b\\xb4\\xe2\\x80\\x99 \\xeb\\x93\\xb1\\xec\\x9e\\xa5 https://n.news.naver.com/mnews/article/009/0005162012?sid=105\\nSK\\xeb\\xb8\\x8c\\xeb\\xa1\\x9c\\xeb\\x93\\x9c\\xeb\\xb0\\xb4\\xeb\\x93\\x9c, \\xec\\x8b\\xa0\\xec\\x9e\\x84 \\xec\\x82\\xac\\xec\\x9e\\xa5\\xec\\x97\\x90 \\xeb\\xb0\\x95\\xec\\xa7\\x84\\xed\\x9a\\xa8 \\xe5\\x89\\x8d SK\\xec\\x89\\xb4\\xeb\\x8d\\x94\\xec\\x8a\\xa4 \\xeb\\x8c\\x80\\xed\\x91\\x9c \\xeb\\x82\\xb4\\xec\\xa0\\x95 https://n.news.naver.com/mnews/article/008/0004915319?sid=105\\n\\xea\\xb7\\xb8 \\xeb\\xa7\\x8e\\xeb\\x8d\\x98 \\xea\\xb0\\x80\\xec\\x83\\x81\\xec\\x9d\\xb8\\xea\\xb0\\x84\\xec\\x9d\\x80 \\xeb\\x8b\\xa4 \\xec\\x96\\xb4\\xeb\\x94\\x94\\xeb\\xa1\\x9c \\xea\\xb0\\x94\\xec\\x9d\\x84\\xea\\xb9\\x8c https://n.news.naver.com/mnews/article/081/0003378966?sid=105\\n\\xec\\x9d\\xbc\\xeb\\xb3\\xb8\\xec\\x9d\\xb8 \\xea\\xb4\\x80\\xea\\xb4\\x91\\xea\\xb0\\x9d 800\\xeb\\xa7\\x8c\\xec\\x9b\\x90 \\xeb\\x90\\x98\\xec\\xb0\\xbe\\xec\\x95\\x84\\xec\\xa4\\x80 \\xeb\\xb2\\x84\\xec\\x8a\\xa4 \\xea\\xb8\\xb0\\xec\\x82\\xac, \\xec\\xb9\\xb4\\xec\\xb9\\xb4\\xec\\x98\\xa4\\xeb\\xaa\\xa8\\xeb\\xb9\\x8c\\xeb\\xa6\\xac\\xed\\x8b\\xb0 \\xec\\x83\\x81 \\xeb\\xb0\\x9b\\xec\\x95\\x98\\xeb\\x8b\\xa4 https://n.news.naver.com/mnews/article/015/0004871028?sid=105\\n\\xec\\x83\\x81 \\xec\\xb2\\xab \\xec\\x86\\x8c\\xed\\x96\\x89\\xec\\x84\\xb1\\xec\\x97\\x90 \\xec\\x9a\\xb0\\xec\\xa3\\xbc\\xec\\x84\\xa0 \\xec\\xb6\\xa9\\xeb\\x8f\\x8c\\xeb\\xa1\\x9c \\xec\\x83\\x9d\\xea\\xb8\\xb4 \\xe2\\x80\\x9837\\xea\\xb0\\x9c \\xeb\\xb0\\x94\\xec\\x9c\\x84\\xe2\\x80\\x99 \\xec\\x9a\\xb0\\xec\\xa3\\xbc\\xeb\\xa5\\xbc \\xeb\\x96\\xa0\\xeb\\x8f\\x8c\\xeb\\x8b\\xa4 [\\xec\\x9a\\xb0\\xec\\xa3\\xbc\\xeb\\xa5\\xbc \\xeb\\xb3\\xb4\\xeb\\x8b\\xa4] https://n.news.naver.com/mnews/article/081/0003378964?sid=105\\n\\xec\\x88\\x9c\\xec\\xb0\\xbd \\xea\\xb0\\x95\\xec\\xb2\\x9c\\xec\\x82\\xb0\\xea\\xb5\\xb0\\xeb\\xa6\\xbd\\xea\\xb3\\xb5\\xec\\x9b\\x90 \\xed\\x9c\\xb4\\xea\\xb0\\x80\\xec\\xb2\\xa0 \\xec\\x95\\xbc\\xea\\xb0\\x84 \\xea\\xb0\\x9c\\xec\\x9e\\xa5\\xe2\\x80\\xa6\\xeb\\x8b\\xa4\\xec\\x96\\x91\\xed\\x95\\x9c \\xeb\\xb9\\x9b\\xec\\x9d\\x98 \\xed\\x96\\xa5\\xec\\x97\\xb0 https://n.news.naver.com/mnews/article/001/0014083060?sid=103\\n\\xec\\x9d\\xb4\\xec\\xa2\\x85\\xed\\x98\\xb8 \\xec\\x9e\\xa5\\xea\\xb4\\x80 \"\\xe5\\xa5\\xb3 \\xea\\xb3\\xb5\\xed\\x95\\x99\\xec\\x83\\x9d, \\xeb\\xaf\\xb8\\xeb\\x9e\\x98 \\xea\\xb3\\xbc\\xed\\x95\\x99\\xea\\xb8\\xb0\\xec\\x88\\xa0 \\xec\\x84\\xa0\\xeb\\x8f\\x84\\xed\\x95\\x98\\xeb\\x9d\\xbc\" https://n.news.naver.com/mnews/article/003/0011988527?sid=103\\n\\xea\\xb0\\x95\\xec\\x9b\\x90\\xeb\\x9e\\x9c\\xeb\\x93\\x9c, \\'\\xed\\x95\\x98\\xec\\x9d\\xb4\\xec\\x9b\\x90 \\xed\\x94\\x84\\xeb\\xa6\\xac\\xeb\\xaf\\xb8\\xec\\x97\\x84 \\xec\\x8a\\xa4\\xed\\x86\\xa0\\xec\\x96\\xb4\\' \\xea\\xb7\\xb8\\xeb\\x9e\\x9c\\xeb\\x93\\x9c \\xec\\x98\\xa4\\xed\\x94\\x88 https://n.news.naver.com/mnews/article/014/0005045785?sid=103\\n\\xec\\x88\\x9c\\xec\\xb0\\xbd \\xea\\xb0\\x95\\xec\\xb2\\x9c\\xec\\x82\\xb0 \\xec\\x95\\xbc\\xea\\xb0\\x84 \\xea\\xb0\\x9c\\xec\\x9e\\xa5\\xe2\\x80\\xa6\\xeb\\xb0\\x98\\xeb\\x94\\xa7\\xeb\\xb6\\x88 \\xec\\xa1\\xb0\\xeb\\xaa\\x85 \\xeb\\x93\\xb1 \\xeb\\x8b\\xa4\\xec\\x96\\x91\\xed\\x95\\x9c \\xeb\\xb9\\x9b\\xec\\x9d\\x98 \\xed\\x96\\xa5\\xec\\x97\\xb0 https://n.news.naver.com/mnews/article/421/0006943371?sid=103\\n\\xec\\x9b\\x90 \\xea\\xb3\\xa0\\xec\\x84\\x9d\\xec\\xa0\\x95 \\xea\\xbd\\x83\\xeb\\xb0\\xad, \\xea\\xb0\\x80\\xec\\x9d\\x84\\xec\\xb2\\xa0 \\xea\\xb0\\x9c\\xec\\x9e\\xa5 \\xec\\x95\\x9e\\xeb\\x91\\x90\\xea\\xb3\\xa0 \\xeb\\xa7\\x89\\xeb\\xb0\\x94\\xec\\xa7\\x80 \\xec\\xa4\\x80\\xeb\\xb9\\x84 \\xed\\x95\\x9c\\xec\\xb0\\xbd https://n.news.naver.com/mnews/article/001/0014082813?sid=103\\n</pre>\\n\\n<hr/>\\n\\n<p>\\n    &copy;\\n    <script>document.write((new Date()).getYear() + 1900);</script>\\n    \\xed\\x8c\\x8c\\xec\\x9d\\xb4\\xec\\x8d\\xac \\xec\\x82\\xac\\xeb\\x9e\\x91\\xeb\\xb0\\xa9\\n</p>\\n\\n</body>\\n</html>\\n'"
      ]
     },
     "execution_count": 8,
     "metadata": {},
     "output_type": "execute_result"
    }
   ],
   "source": [
    "res.content # 응답 Raw 데이터"
   ]
  },
  {
   "cell_type": "code",
   "execution_count": 9,
   "id": "ab7b10d9",
   "metadata": {},
   "outputs": [
    {
     "data": {
      "text/plain": [
       "'\\n<!doctype html>\\n<html lang=\"ko\">\\n<head>\\n<meta charset=\"utf-8\" />\\n<title>[레벨1] 단순 HTML 크롤링</title>\\n</head>\\n<body>\\n<h1>파이썬 사랑방</h1>\\n\\n<h2>[레벨1] 단순 HTML 크롤링</h2>\\n\\n<p>최초 HTML에 크롤링할 데이터가 있습니다.</p>\\n\\n<div id=\"it-general\" class=\"category\">\\n    <h3>IT 일반</h3>\\n    <ul>\\n        <li class=\"article\"><a href=\"https://n.news.naver.com/mnews/article/009/0005162012?sid=105\">‘배틀그라운드 모바일’, 영국 스포츠카 ‘애스턴마틴’ 등장</a></li>\\n        <li class=\"article\"><a href=\"https://n.news.naver.com/mnews/article/008/0004915319?sid=105\">SK브로드밴드, 신임 사장에 박진효 前 SK쉴더스 대표 내정</a></li>\\n        <li class=\"article\"><a href=\"https://n.news.naver.com/mnews/article/081/0003378966?sid=105\">그 많던 가상인간은 다 어디로 갔을까</a></li>\\n        <li class=\"article\"><a href=\"https://n.news.naver.com/mnews/article/015/0004871028?sid=105\">일본인 관광객 800만원 되찾아준 버스 기사, 카카오모빌리티 상 받았다</a></li>\\n        <li class=\"article\"><a href=\"https://n.news.naver.com/mnews/article/081/0003378964?sid=105\">상 첫 소행성에 우주선 충돌로 생긴 ‘37개 바위’ 우주를 떠돌다 [우주를 보다]</a></li>\\n    </ul>\\n</div>\\n\\n<div id=\"life\" class=\"category\">\\n    <h3>생활/문화</h3>\\n    <ul>\\n        <li class=\"article\"><a href=\"https://n.news.naver.com/mnews/article/001/0014083060?sid=103\">순창 강천산군립공원 휴가철 야간 개장…다양한 빛의 향연</a></li>\\n        <li class=\"article\"><a href=\"https://n.news.naver.com/mnews/article/003/0011988527?sid=103\">이종호 장관 \"女 공학생, 미래 과학기술 선도하라\"</a></li>\\n        <li class=\"article\"><a href=\"https://n.news.naver.com/mnews/article/014/0005045785?sid=103\">강원랜드, \\'하이원 프리미엄 스토어\\' 그랜드 오픈</a></li>\\n        <li class=\"article\"><a href=\"https://n.news.naver.com/mnews/article/421/0006943371?sid=103\">순창 강천산 야간 개장…반딧불 조명 등 다양한 빛의 향연</a></li>\\n        <li class=\"article\"><a href=\"https://n.news.naver.com/mnews/article/001/0014082813?sid=103\">원 고석정 꽃밭, 가을철 개장 앞두고 막바지 준비 한창</a></li>\\n    </ul>\\n</div>\\n\\n<hr/>\\n\\n<h3>TODO</h3>\\n\\n<ul>\\n    <li>위 기사의 제목과 URL을 뽑아서 출력해보세요.</li>\\n</ul>\\n\\n실행 예시\\n\\n<pre>\\n‘배틀그라운드 모바일’, 영국 스포츠카 ‘애스턴마틴’ 등장 https://n.news.naver.com/mnews/article/009/0005162012?sid=105\\nSK브로드밴드, 신임 사장에 박진효 前 SK쉴더스 대표 내정 https://n.news.naver.com/mnews/article/008/0004915319?sid=105\\n그 많던 가상인간은 다 어디로 갔을까 https://n.news.naver.com/mnews/article/081/0003378966?sid=105\\n일본인 관광객 800만원 되찾아준 버스 기사, 카카오모빌리티 상 받았다 https://n.news.naver.com/mnews/article/015/0004871028?sid=105\\n상 첫 소행성에 우주선 충돌로 생긴 ‘37개 바위’ 우주를 떠돌다 [우주를 보다] https://n.news.naver.com/mnews/article/081/0003378964?sid=105\\n순창 강천산군립공원 휴가철 야간 개장…다양한 빛의 향연 https://n.news.naver.com/mnews/article/001/0014083060?sid=103\\n이종호 장관 \"女 공학생, 미래 과학기술 선도하라\" https://n.news.naver.com/mnews/article/003/0011988527?sid=103\\n강원랜드, \\'하이원 프리미엄 스토어\\' 그랜드 오픈 https://n.news.naver.com/mnews/article/014/0005045785?sid=103\\n순창 강천산 야간 개장…반딧불 조명 등 다양한 빛의 향연 https://n.news.naver.com/mnews/article/421/0006943371?sid=103\\n원 고석정 꽃밭, 가을철 개장 앞두고 막바지 준비 한창 https://n.news.naver.com/mnews/article/001/0014082813?sid=103\\n</pre>\\n\\n<hr/>\\n\\n<p>\\n    &copy;\\n    <script>document.write((new Date()).getYear() + 1900);</script>\\n    파이썬 사랑방\\n</p>\\n\\n</body>\\n</html>\\n'"
      ]
     },
     "execution_count": 9,
     "metadata": {},
     "output_type": "execute_result"
    }
   ],
   "source": [
    "res.text # 문자열이 아니면 사용 불가"
   ]
  },
  {
   "cell_type": "code",
   "execution_count": 11,
   "id": "f210fcf6",
   "metadata": {},
   "outputs": [
    {
     "data": {
      "text/plain": [
       "2936"
      ]
     },
     "execution_count": 11,
     "metadata": {},
     "output_type": "execute_result"
    }
   ],
   "source": [
    "html = res.text\n",
    "len (html) # 글자 수"
   ]
  },
  {
   "cell_type": "code",
   "execution_count": 14,
   "id": "1f75dd5e",
   "metadata": {},
   "outputs": [],
   "source": [
    "from bs4 import BeautifulSoup\n",
    "\n",
    "soup = BeautifulSoup(html, \"html.parser\") # 기본 파서 : html.parser"
   ]
  },
  {
   "cell_type": "code",
   "execution_count": 15,
   "id": "c3594067",
   "metadata": {},
   "outputs": [
    {
     "data": {
      "text/plain": [
       "[<a href=\"https://n.news.naver.com/mnews/article/009/0005162012?sid=105\">‘배틀그라운드 모바일’, 영국 스포츠카 ‘애스턴마틴’ 등장</a>,\n",
       " <a href=\"https://n.news.naver.com/mnews/article/008/0004915319?sid=105\">SK브로드밴드, 신임 사장에 박진효 前 SK쉴더스 대표 내정</a>,\n",
       " <a href=\"https://n.news.naver.com/mnews/article/081/0003378966?sid=105\">그 많던 가상인간은 다 어디로 갔을까</a>,\n",
       " <a href=\"https://n.news.naver.com/mnews/article/015/0004871028?sid=105\">일본인 관광객 800만원 되찾아준 버스 기사, 카카오모빌리티 상 받았다</a>,\n",
       " <a href=\"https://n.news.naver.com/mnews/article/081/0003378964?sid=105\">상 첫 소행성에 우주선 충돌로 생긴 ‘37개 바위’ 우주를 떠돌다 [우주를 보다]</a>,\n",
       " <a href=\"https://n.news.naver.com/mnews/article/001/0014083060?sid=103\">순창 강천산군립공원 휴가철 야간 개장…다양한 빛의 향연</a>,\n",
       " <a href=\"https://n.news.naver.com/mnews/article/003/0011988527?sid=103\">이종호 장관 \"女 공학생, 미래 과학기술 선도하라\"</a>,\n",
       " <a href=\"https://n.news.naver.com/mnews/article/014/0005045785?sid=103\">강원랜드, '하이원 프리미엄 스토어' 그랜드 오픈</a>,\n",
       " <a href=\"https://n.news.naver.com/mnews/article/421/0006943371?sid=103\">순창 강천산 야간 개장…반딧불 조명 등 다양한 빛의 향연</a>,\n",
       " <a href=\"https://n.news.naver.com/mnews/article/001/0014082813?sid=103\">원 고석정 꽃밭, 가을철 개장 앞두고 막바지 준비 한창</a>]"
      ]
     },
     "execution_count": 15,
     "metadata": {},
     "output_type": "execute_result"
    }
   ],
   "source": [
    "soup.select('a')"
   ]
  },
  {
   "cell_type": "code",
   "execution_count": 21,
   "id": "e3d967a3",
   "metadata": {},
   "outputs": [],
   "source": [
    "tag_list = soup.select('.article a') # class에 article이 포함된 태그 리스트를 모두 찾아줘."
   ]
  },
  {
   "cell_type": "code",
   "execution_count": 22,
   "id": "b4851e6f",
   "metadata": {},
   "outputs": [
    {
     "data": {
      "text/plain": [
       "10"
      ]
     },
     "execution_count": 22,
     "metadata": {},
     "output_type": "execute_result"
    }
   ],
   "source": [
    "len(tag_list)"
   ]
  },
  {
   "cell_type": "code",
   "execution_count": 25,
   "id": "aa97a808",
   "metadata": {},
   "outputs": [
    {
     "data": {
      "text/plain": [
       "<a href=\"https://n.news.naver.com/mnews/article/009/0005162012?sid=105\">‘배틀그라운드 모바일’, 영국 스포츠카 ‘애스턴마틴’ 등장</a>"
      ]
     },
     "execution_count": 25,
     "metadata": {},
     "output_type": "execute_result"
    }
   ],
   "source": [
    "tag = tag_list[0]\n",
    "tag"
   ]
  },
  {
   "cell_type": "code",
   "execution_count": 27,
   "id": "4bbe8765",
   "metadata": {},
   "outputs": [
    {
     "data": {
      "text/plain": [
       "'‘배틀그라운드 모바일’, 영국 스포츠카 ‘애스턴마틴’ 등장'"
      ]
     },
     "execution_count": 27,
     "metadata": {},
     "output_type": "execute_result"
    }
   ],
   "source": [
    "tag.text"
   ]
  },
  {
   "cell_type": "code",
   "execution_count": 28,
   "id": "de313f09",
   "metadata": {},
   "outputs": [
    {
     "name": "stdout",
     "output_type": "stream",
     "text": [
      "‘배틀그라운드 모바일’, 영국 스포츠카 ‘애스턴마틴’ 등장\n",
      "https://n.news.naver.com/mnews/article/009/0005162012?sid=105\n",
      "\n",
      "SK브로드밴드, 신임 사장에 박진효 前 SK쉴더스 대표 내정\n",
      "https://n.news.naver.com/mnews/article/008/0004915319?sid=105\n",
      "\n",
      "그 많던 가상인간은 다 어디로 갔을까\n",
      "https://n.news.naver.com/mnews/article/081/0003378966?sid=105\n",
      "\n",
      "일본인 관광객 800만원 되찾아준 버스 기사, 카카오모빌리티 상 받았다\n",
      "https://n.news.naver.com/mnews/article/015/0004871028?sid=105\n",
      "\n",
      "상 첫 소행성에 우주선 충돌로 생긴 ‘37개 바위’ 우주를 떠돌다 [우주를 보다]\n",
      "https://n.news.naver.com/mnews/article/081/0003378964?sid=105\n",
      "\n",
      "순창 강천산군립공원 휴가철 야간 개장…다양한 빛의 향연\n",
      "https://n.news.naver.com/mnews/article/001/0014083060?sid=103\n",
      "\n",
      "이종호 장관 \"女 공학생, 미래 과학기술 선도하라\"\n",
      "https://n.news.naver.com/mnews/article/003/0011988527?sid=103\n",
      "\n",
      "강원랜드, '하이원 프리미엄 스토어' 그랜드 오픈\n",
      "https://n.news.naver.com/mnews/article/014/0005045785?sid=103\n",
      "\n",
      "순창 강천산 야간 개장…반딧불 조명 등 다양한 빛의 향연\n",
      "https://n.news.naver.com/mnews/article/421/0006943371?sid=103\n",
      "\n",
      "원 고석정 꽃밭, 가을철 개장 앞두고 막바지 준비 한창\n",
      "https://n.news.naver.com/mnews/article/001/0014082813?sid=103\n",
      "\n"
     ]
    }
   ],
   "source": [
    "for tag in tag_list :\n",
    "    print(tag.text)\n",
    "    print(tag[\"href\"])\n",
    "    print()"
   ]
  }
 ],
 "metadata": {
  "kernelspec": {
   "display_name": "Python 3 (ipykernel)",
   "language": "python",
   "name": "python3"
  },
  "language_info": {
   "codemirror_mode": {
    "name": "ipython",
    "version": 3
   },
   "file_extension": ".py",
   "mimetype": "text/x-python",
   "name": "python",
   "nbconvert_exporter": "python",
   "pygments_lexer": "ipython3",
   "version": "3.11.3"
  }
 },
 "nbformat": 4,
 "nbformat_minor": 5
}
